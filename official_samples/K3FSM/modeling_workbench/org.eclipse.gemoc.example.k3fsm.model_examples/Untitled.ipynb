{
 "cells": [
  {
   "cell_type": "code",
   "execution_count": 1,
   "id": "undefined-cardiff",
   "metadata": {},
   "outputs": [
    {
     "data": {
      "text/plain": [
       "\n",
       "6"
      ]
     },
     "execution_count": 1,
     "metadata": {},
     "output_type": "execute_result"
    }
   ],
   "source": []
  },
  {
   "cell_type": "code",
   "execution_count": 2,
   "id": "identified-poverty",
   "metadata": {},
   "outputs": [
    {
     "data": {
      "text/plain": [
       "\n",
       "6"
      ]
     },
     "execution_count": 2,
     "metadata": {},
     "output_type": "execute_result"
    }
   ],
   "source": [
    "3+3"
   ]
  },
  {
   "cell_type": "code",
   "execution_count": 3,
   "id": "historical-reviewer",
   "metadata": {},
   "outputs": [
    {
     "data": {
      "": ""
     },
     "execution_count": 3,
     "metadata": {},
     "output_type": "execute_result"
    }
   ],
   "source": [
    "class A {}"
   ]
  },
  {
   "cell_type": "code",
   "execution_count": 4,
   "id": "aware-petite",
   "metadata": {},
   "outputs": [
    {
     "data": {
      "": ""
     },
     "execution_count": 4,
     "metadata": {},
     "output_type": "execute_result"
    }
   ],
   "source": [
    "class B {\n",
    "    private int field;\n",
    "    \n",
    "    public B(int value) {\n",
    "        this.field = value;\n",
    "    }\n",
    "}"
   ]
  },
  {
   "cell_type": "code",
   "execution_count": 5,
   "id": "frequent-version",
   "metadata": {},
   "outputs": [
    {
     "data": {
      "text/plain": [
       "\n",
       "org.tetrabox.minijava.xtext.miniJava.impl.ObjectInstanceImpl@3121a3b3"
      ]
     },
     "execution_count": 5,
     "metadata": {},
     "output_type": "execute_result"
    }
   ],
   "source": [
    "new B(42)"
   ]
  },
  {
   "cell_type": "code",
   "execution_count": 6,
   "id": "pursuant-intersection",
   "metadata": {},
   "outputs": [
    {
     "ename": "Error",
     "evalue": "The private member field is not accessible here",
     "output_type": "error",
     "traceback": []
    }
   ],
   "source": [
    "new B(42).field"
   ]
  },
  {
   "cell_type": "code",
   "execution_count": 7,
   "id": "biological-conditions",
   "metadata": {},
   "outputs": [
    {
     "data": {
      "": ""
     },
     "execution_count": 7,
     "metadata": {},
     "output_type": "execute_result"
    }
   ],
   "source": [
    "class C {\n",
    "    private int field;\n",
    "    \n",
    "    public C(int value) {\n",
    "        this.field = value;\n",
    "    }\n",
    "    \n",
    "    public int getField() {\n",
    "        return this.field;\n",
    "    }\n",
    "}"
   ]
  },
  {
   "cell_type": "code",
   "execution_count": 8,
   "id": "amber-underwear",
   "metadata": {},
   "outputs": [
    {
     "data": {
      "text/plain": [
       "\n",
       "42"
      ]
     },
     "execution_count": 8,
     "metadata": {},
     "output_type": "execute_result"
    }
   ],
   "source": [
    "new C(42).getField()"
   ]
  },
  {
   "cell_type": "code",
   "execution_count": null,
   "id": "sapphire-lawyer",
   "metadata": {},
   "outputs": [],
   "source": []
  }
 ],
 "metadata": {
  "kernelspec": {
   "display_name": "MiniJava",
   "language": "MiniJava",
   "name": "minijava_repl25185"
  },
  "language_info": {
   "file_extension": ".xmi",
   "mimetype": "text/x-gemoc",
   "name": "gemoc"
  }
 },
 "nbformat": 4,
 "nbformat_minor": 5
}
